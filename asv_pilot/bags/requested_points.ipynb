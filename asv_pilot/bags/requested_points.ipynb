{
 "metadata": {
  "name": ""
 },
 "nbformat": 3,
 "nbformat_minor": 0,
 "worksheets": [
  {
   "cells": [
    {
     "cell_type": "code",
     "collapsed": false,
     "input": [
      "import pandas as pd\n",
      "import numpy as np\n",
      "import matplotlib.pyplot as plt"
     ],
     "language": "python",
     "metadata": {},
     "outputs": [],
     "prompt_number": 98
    },
    {
     "cell_type": "code",
     "collapsed": false,
     "input": [
      "%pylab \n",
      "%matplotlib"
     ],
     "language": "python",
     "metadata": {},
     "outputs": [
      {
       "output_type": "stream",
       "stream": "stdout",
       "text": [
        "Using matplotlib backend: TkAgg\n",
        "Populating the interactive namespace from numpy and matplotlib\n",
        "Using matplotlib backend: TkAgg"
       ]
      },
      {
       "output_type": "stream",
       "stream": "stdout",
       "text": [
        "\n"
       ]
      }
     ],
     "prompt_number": 99
    },
    {
     "cell_type": "code",
     "collapsed": false,
     "input": [
      "FILE = 'home'"
     ],
     "language": "python",
     "metadata": {},
     "outputs": [],
     "prompt_number": 100
    },
    {
     "cell_type": "code",
     "collapsed": false,
     "input": [
      "# Read nav\n",
      "nav_msg = pd.read_csv(FILE+'_nav_sts.csv')\n",
      "\n",
      "nav_n = nav_msg['field.position.north']\n",
      "nav_e = nav_msg['field.position.east']\n",
      "nav_vel_x = nav_msg['field.body_velocity.x']\n",
      "nav_vel_r = nav_msg['field.orientation_rate.yaw']\n",
      "nav_t = nav_msg['field.header.stamp']\n",
      "nav_msg.keys();"
     ],
     "language": "python",
     "metadata": {},
     "outputs": [
      {
       "metadata": {},
       "output_type": "pyout",
       "prompt_number": 101,
       "text": [
        "Index([u'%time', u'field.header.seq', u'field.header.stamp', u'field.header.frame_id', u'field.global_position.latitude', u'field.global_position.longitude', u'field.origin.latitude', u'field.origin.longitude', u'field.position.north', u'field.position.east', u'field.position.depth', u'field.altitude', u'field.body_velocity.x', u'field.body_velocity.y', u'field.body_velocity.z', u'field.orientation.roll', u'field.orientation.pitch', u'field.orientation.yaw', u'field.orientation_rate.roll', u'field.orientation_rate.pitch', u'field.orientation_rate.yaw', u'field.position_variance.north', u'field.position_variance.east', u'field.position_variance.depth', u'field.orientation_variance.roll', u'field.orientation_variance.pitch', u'field.orientation_variance.yaw', u'field.status'], dtype='object')"
       ]
      }
     ],
     "prompt_number": 101
    },
    {
     "cell_type": "code",
     "collapsed": false,
     "input": [
      "# Read req\n",
      "req_msg = pd.read_csv(FILE+'_position_req.csv')\n",
      "req_n = req_msg['field.position1']\n",
      "req_e = req_msg['field.position0']"
     ],
     "language": "python",
     "metadata": {},
     "outputs": [],
     "prompt_number": 102
    },
    {
     "cell_type": "code",
     "collapsed": false,
     "input": [
      "figure(1)\n",
      "plot(nav_e, nav_n)\n",
      "plot(req_e, req_n, 'g--')\n",
      "axis('equal');"
     ],
     "language": "python",
     "metadata": {},
     "outputs": [],
     "prompt_number": 103
    },
    {
     "cell_type": "code",
     "collapsed": false,
     "input": [
      "figure(2)\n",
      "plot(nav_t, nav_vel_x, 'r')\n",
      "plot(nav_t, nav_vel_r, 'g')"
     ],
     "language": "python",
     "metadata": {},
     "outputs": [
      {
       "metadata": {},
       "output_type": "pyout",
       "prompt_number": 104,
       "text": [
        "[<matplotlib.lines.Line2D at 0x7f6d4e66cf50>]"
       ]
      }
     ],
     "prompt_number": 104
    },
    {
     "cell_type": "code",
     "collapsed": false,
     "input": [
      "\n"
     ],
     "language": "python",
     "metadata": {},
     "outputs": [],
     "prompt_number": 104
    },
    {
     "cell_type": "code",
     "collapsed": false,
     "input": [],
     "language": "python",
     "metadata": {},
     "outputs": [],
     "prompt_number": 104
    },
    {
     "cell_type": "code",
     "collapsed": false,
     "input": [],
     "language": "python",
     "metadata": {},
     "outputs": [],
     "prompt_number": 104
    }
   ],
   "metadata": {}
  }
 ]
}